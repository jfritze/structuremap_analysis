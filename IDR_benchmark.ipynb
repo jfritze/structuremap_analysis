version https://git-lfs.github.com/spec/v1
oid sha256:9534ad1c788f7d44b3023b7dcce92991a3ddc3c38daf39ee0ab2b178e4f8f0f1
size 158538445
